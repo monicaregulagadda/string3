{
 "cells": [
  {
   "cell_type": "code",
   "execution_count": 2,
   "id": "12e033c9-7500-412e-b32a-4b725d82062b",
   "metadata": {},
   "outputs": [
    {
     "name": "stdout",
     "output_type": "stream",
     "text": [
      "73\n"
     ]
    }
   ],
   "source": [
    "# define a variable string1\n",
    "string1 = \"7\"\n",
    "\n",
    "# define a variable string2\n",
    "string2 = \"3\"\n",
    "\n",
    "# strings \"7\" and \"3\" are added.\n",
    "string3 = string1 + string2\n",
    "\n",
    "#print string3\n",
    "print(string3)"
   ]
  },
  {
   "cell_type": "code",
   "execution_count": null,
   "id": "6b135eca-5b64-43a2-ace4-515cfb4986ec",
   "metadata": {},
   "outputs": [],
   "source": []
  }
 ],
 "metadata": {
  "kernelspec": {
   "display_name": "Python 3 (ipykernel)",
   "language": "python",
   "name": "python3"
  },
  "language_info": {
   "codemirror_mode": {
    "name": "ipython",
    "version": 3
   },
   "file_extension": ".py",
   "mimetype": "text/x-python",
   "name": "python",
   "nbconvert_exporter": "python",
   "pygments_lexer": "ipython3",
   "version": "3.12.5"
  }
 },
 "nbformat": 4,
 "nbformat_minor": 5
}
